{
 "cells": [
  {
   "cell_type": "code",
   "execution_count": 11,
   "metadata": {},
   "outputs": [],
   "source": [
    "import random"
   ]
  },
  {
   "cell_type": "code",
   "execution_count": 12,
   "metadata": {},
   "outputs": [],
   "source": [
    "def file_parser(file_path):\n",
    "    \"\"\"\n",
    "    Reads the BNF grammar file and creates a grammar dictionary out of it\n",
    "    \"\"\"\n",
    "    file = open(file_path)\n",
    "    lines = file.readlines()\n",
    "    grammar_dict = dict()\n",
    "    for line in lines:\n",
    "        # Handle for lines \n",
    "        if (line  != \"\\n\") & (len(line) > 0):\n",
    "            # Split on the main separator to get the key value\n",
    "            key, value = line.split(\"::=\")\n",
    "            # The values separated by \"|\" need to be split and saved into a list\n",
    "            grammar_dict[key.strip()] = value.replace(\"\\n\", \"\").strip().split(\"|\")\n",
    "    return grammar_dict"
   ]
  },
  {
   "cell_type": "code",
   "execution_count": 13,
   "metadata": {},
   "outputs": [],
   "source": [
    "def make_sentence(grammar_dict, rule):\n",
    "    \"\"\"\n",
    "    A recursive program to convert the BNF grammar rules to sentences\n",
    "    \"\"\"\n",
    "    \n",
    "    def _get_random(key):\n",
    "        \"\"\"\n",
    "        A function that randomly chooses a rule from the BNF grammar dictionary \n",
    "        \"\"\"\n",
    "        if key in grammar_dict:\n",
    "            return random.choice(grammar_dict[key])\n",
    "        return key\n",
    "    \n",
    "    # Get the available rules in the grammar dict\n",
    "    available_rules = grammar_dict.keys()\n",
    "    # Split the user input rule on space\n",
    "    split_rules = rule.split(\" \")\n",
    "    # Check if there are any non-terminal rules in the user input\n",
    "    remaining_rules = set(available_rules).intersection(set(split_rules))\n",
    "    \n",
    "    if len(remaining_rules) == 0:\n",
    "        return rule\n",
    "    else:\n",
    "        # Using imperative programming, map the terminal rules in the list into random values from the dict\n",
    "        # Pass it to make_sentence again to recursively map all non-terminal rules with random values\n",
    "        new_rule = list(map(_get_random, split_rules))\n",
    "        return make_sentence(grammar_dict, \" \".join(new_rule))"
   ]
  },
  {
   "cell_type": "code",
   "execution_count": 14,
   "metadata": {},
   "outputs": [],
   "source": [
    "def main():\n",
    "    # Declare the file name\n",
    "    file_name = input(\"Please input the path of BNF grammar file: \")\n",
    "    # Parse the file\n",
    "    grammar_dict = file_parser(file_name)\n",
    "    # Print the available symbols\n",
    "    print(\"Available symbols to generate are:\\n\", list(grammar_dict.keys()))\n",
    "    # Get the user input for which symbol he/she wants to generate sentences\n",
    "    user_input = input(\"What do you want to generate (Enter to quit)? \")\n",
    "    # If input is empty, \"Enter\" is press, then quit the program\n",
    "    if not user_input:\n",
    "        exit()\n",
    "    else:\n",
    "        # If the user input is in the grammar dict, then ask how many sentences need to be generated\n",
    "        if user_input in grammar_dict:\n",
    "            user_input_n = int(input(\"How many do you want me to generate? \"))\n",
    "            print(\" \")\n",
    "            # Make sentences \"user_input_n\" times\n",
    "            for i in range(user_input_n):\n",
    "                sentence = make_sentence(grammar_dict, user_input)\n",
    "                print(sentence)\n",
    "        else:\n",
    "            print(\"Symbol not available in the dictionary\")"
   ]
  },
  {
   "cell_type": "code",
   "execution_count": 18,
   "metadata": {},
   "outputs": [
    {
     "name": "stdout",
     "output_type": "stream",
     "text": [
      "Please input the path of BNF grammar file: abAba.txt\n",
      "Available symbols to generate are:\n",
      " ['S']\n",
      "What do you want to generate (Enter to quit)? S\n",
      "How many do you want me to generate? 3\n",
      " \n",
      " b  b  b a  A a  b  b  b \n",
      "a a  A a  a \n",
      " b  A b \n"
     ]
    }
   ],
   "source": [
    "main()"
   ]
  },
  {
   "cell_type": "code",
   "execution_count": null,
   "metadata": {},
   "outputs": [],
   "source": []
  }
 ],
 "metadata": {
  "kernelspec": {
   "display_name": "Python 3",
   "language": "python",
   "name": "python3"
  },
  "language_info": {
   "codemirror_mode": {
    "name": "ipython",
    "version": 3
   },
   "file_extension": ".py",
   "mimetype": "text/x-python",
   "name": "python",
   "nbconvert_exporter": "python",
   "pygments_lexer": "ipython3",
   "version": "3.6.7"
  }
 },
 "nbformat": 4,
 "nbformat_minor": 2
}
